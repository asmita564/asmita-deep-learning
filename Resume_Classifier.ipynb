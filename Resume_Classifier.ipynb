{
  "nbformat": 4,
  "nbformat_minor": 0,
  "metadata": {
    "colab": {
      "provenance": []
    },
    "kernelspec": {
      "name": "python3",
      "display_name": "Python 3"
    },
    "language_info": {
      "name": "python"
    }
  },
  "cells": [
    {
      "cell_type": "code",
      "execution_count": 24,
      "metadata": {
        "id": "hVR1S7tnbncd"
      },
      "outputs": [],
      "source": [
        "# Import Libraries\n",
        "\n",
        "from keras.models import Sequential\n",
        "from keras.layers import Conv2D\n",
        "from keras.layers import MaxPooling2D\n",
        "from keras.layers import Flatten\n",
        "from keras.layers import Dense\n",
        "from keras.layers import Dropout\n",
        "from keras.layers import Activation"
      ]
    },
    {
      "cell_type": "markdown",
      "source": [
        "# Create CNN Model (CNN)"
      ],
      "metadata": {
        "id": "ll_QemNUjGH5"
      }
    },
    {
      "cell_type": "code",
      "source": [
        "classifier = Sequential()"
      ],
      "metadata": {
        "id": "_FsJMB2zbwNN"
      },
      "execution_count": 25,
      "outputs": []
    },
    {
      "cell_type": "code",
      "source": [
        "classifier.add(Conv2D(32, (3, 3), input_shape = (200, 200, 3), activation = 'relu'))\n",
        "classifier.add(MaxPooling2D(pool_size = (2, 2)))\n",
        "classifier.add(Conv2D(32, (3, 3), activation = 'relu'))\n",
        "classifier.add(MaxPooling2D(pool_size=(2, 2)))\n",
        "classifier.add(Conv2D(64, (3, 3), activation = 'relu'))\n",
        "classifier.add(MaxPooling2D(pool_size=(2, 2)))"
      ],
      "metadata": {
        "id": "OvTpL5hVb6kU"
      },
      "execution_count": 26,
      "outputs": []
    },
    {
      "cell_type": "code",
      "source": [
        "classifier.add(Flatten())\n",
        "classifier.add(Dense(units = 64, activation = 'relu'))\n",
        "classifier.add(Dropout(0.5))"
      ],
      "metadata": {
        "id": "MFxpaMMNb_kl"
      },
      "execution_count": 27,
      "outputs": []
    },
    {
      "cell_type": "code",
      "source": [
        "# output layer\n",
        "\n",
        "classifier.add(Dense(1))\n",
        "classifier.add(Activation('sigmoid'))"
      ],
      "metadata": {
        "id": "v3fGXgHJcEVg"
      },
      "execution_count": 28,
      "outputs": []
    },
    {
      "cell_type": "code",
      "source": [
        "# Compile the Model\n",
        "\n",
        "classifier.compile(optimizer = 'adam', loss = 'binary_crossentropy', metrics = ['accuracy'])\n"
      ],
      "metadata": {
        "id": "ZZ-CvoUUcM02"
      },
      "execution_count": 29,
      "outputs": []
    },
    {
      "cell_type": "code",
      "source": [
        "from keras.preprocessing.image import ImageDataGenerator"
      ],
      "metadata": {
        "id": "mP4wJfuGcQ3e"
      },
      "execution_count": 30,
      "outputs": []
    },
    {
      "cell_type": "code",
      "source": [
        "train_datagen = ImageDataGenerator(rescale = 1./255,shear_range = 0.2,zoom_range = 0.2,horizontal_flip = True)\n",
        "test_datagen = ImageDataGenerator(rescale = 1./255)"
      ],
      "metadata": {
        "id": "BM_f-viScZgn"
      },
      "execution_count": 31,
      "outputs": []
    },
    {
      "cell_type": "code",
      "source": [
        "# Load the datasets\n",
        "\n",
        "training_set = train_datagen.flow_from_directory('/content/drive/MyDrive/Train',\n",
        "                                                 target_size = (200, 200),\n",
        "                                                 batch_size = 8,\n",
        "                                                 class_mode = \"binary\")\n"
      ],
      "metadata": {
        "colab": {
          "base_uri": "https://localhost:8080/"
        },
        "id": "km6Yz4fQdTh2",
        "outputId": "abc3f8fb-4c44-41fc-d790-d52a90de68c3"
      },
      "execution_count": 32,
      "outputs": [
        {
          "output_type": "stream",
          "name": "stdout",
          "text": [
            "Found 142 images belonging to 2 classes.\n"
          ]
        }
      ]
    },
    {
      "cell_type": "code",
      "source": [
        "test_set = test_datagen.flow_from_directory('/content/drive/MyDrive/Test',\n",
        "                                            target_size = (200, 200),\n",
        "                                            batch_size = 7,\n",
        "                                            class_mode = \"binary\")"
      ],
      "metadata": {
        "colab": {
          "base_uri": "https://localhost:8080/"
        },
        "id": "gVeKlBUTfmte",
        "outputId": "ca7935d1-b9b5-4ab7-c37f-3f5dd79418ea"
      },
      "execution_count": 33,
      "outputs": [
        {
          "output_type": "stream",
          "name": "stdout",
          "text": [
            "Found 100 images belonging to 2 classes.\n"
          ]
        }
      ]
    },
    {
      "cell_type": "code",
      "source": [
        "history = classifier.fit_generator(training_set,\n",
        "                         steps_per_epoch = 8,\n",
        "                         epochs = 10,\n",
        "                         validation_data = test_set,\n",
        "                         validation_steps = 3)"
      ],
      "metadata": {
        "colab": {
          "base_uri": "https://localhost:8080/"
        },
        "id": "Uu0Vu50cgUYn",
        "outputId": "dffc9eec-794a-40bf-a9e3-b30dd76f98e2"
      },
      "execution_count": 34,
      "outputs": [
        {
          "output_type": "stream",
          "name": "stderr",
          "text": [
            "<ipython-input-34-4b0bf8689b21>:1: UserWarning: `Model.fit_generator` is deprecated and will be removed in a future version. Please use `Model.fit`, which supports generators.\n",
            "  history = classifier.fit_generator(training_set,\n"
          ]
        },
        {
          "output_type": "stream",
          "name": "stdout",
          "text": [
            "Epoch 1/10\n",
            "8/8 [==============================] - 17s 2s/step - loss: 1.4253 - accuracy: 0.4355 - val_loss: 0.6682 - val_accuracy: 0.5714\n",
            "Epoch 2/10\n",
            "8/8 [==============================] - 13s 2s/step - loss: 0.6862 - accuracy: 0.6452 - val_loss: 0.6451 - val_accuracy: 0.8095\n",
            "Epoch 3/10\n",
            "8/8 [==============================] - 12s 2s/step - loss: 0.7389 - accuracy: 0.5645 - val_loss: 0.7675 - val_accuracy: 0.4762\n",
            "Epoch 4/10\n",
            "8/8 [==============================] - 12s 1s/step - loss: 0.6607 - accuracy: 0.6562 - val_loss: 0.6962 - val_accuracy: 0.4762\n",
            "Epoch 5/10\n",
            "8/8 [==============================] - 14s 2s/step - loss: 0.7008 - accuracy: 0.5938 - val_loss: 0.5323 - val_accuracy: 1.0000\n",
            "Epoch 6/10\n",
            "8/8 [==============================] - 15s 2s/step - loss: 0.5546 - accuracy: 0.7742 - val_loss: 0.2614 - val_accuracy: 1.0000\n",
            "Epoch 7/10\n",
            "8/8 [==============================] - 15s 2s/step - loss: 0.4450 - accuracy: 0.8281 - val_loss: 0.0620 - val_accuracy: 1.0000\n",
            "Epoch 8/10\n",
            "8/8 [==============================] - 13s 2s/step - loss: 0.1845 - accuracy: 0.9062 - val_loss: 0.0285 - val_accuracy: 1.0000\n",
            "Epoch 9/10\n",
            "8/8 [==============================] - 13s 2s/step - loss: 0.0977 - accuracy: 0.9688 - val_loss: 0.0056 - val_accuracy: 1.0000\n",
            "Epoch 10/10\n",
            "8/8 [==============================] - 11s 1s/step - loss: 0.0705 - accuracy: 0.9688 - val_loss: 0.0040 - val_accuracy: 1.0000\n"
          ]
        }
      ]
    },
    {
      "cell_type": "code",
      "source": [
        "from keras.preprocessing import image\n",
        "import numpy as np\n"
      ],
      "metadata": {
        "id": "lEoPhuulgcEC"
      },
      "execution_count": 35,
      "outputs": []
    },
    {
      "cell_type": "code",
      "source": [
        "# Image load\n",
        "\n",
        "test_image = image.load_img('/content/drive/MyDrive/Test/resume/Resume 29.png', target_size = (200, 200))\n"
      ],
      "metadata": {
        "id": "-dOP-Jpzhi8-"
      },
      "execution_count": 36,
      "outputs": []
    },
    {
      "cell_type": "code",
      "source": [
        "# test_image.show()\n",
        "\n",
        "test_image = image.img_to_array(test_image)\n",
        "test_image = np.expand_dims(test_image, axis = 0)\n",
        "result = classifier.predict(test_image)\n"
      ],
      "metadata": {
        "colab": {
          "base_uri": "https://localhost:8080/"
        },
        "id": "k23hcrUphsDR",
        "outputId": "fa6050dc-3d64-447d-dad2-903a39d91f9e"
      },
      "execution_count": 37,
      "outputs": [
        {
          "output_type": "stream",
          "name": "stdout",
          "text": [
            "1/1 [==============================] - 0s 154ms/step\n"
          ]
        }
      ]
    },
    {
      "cell_type": "code",
      "source": [
        "# training_set.class_indices\n",
        "\n",
        "if result[0][0] == 1:\n",
        "    prediction = 'This is resume image'\n",
        "else:\n",
        "    prediction = 'This is not resume image'\n",
        "print(prediction)"
      ],
      "metadata": {
        "colab": {
          "base_uri": "https://localhost:8080/"
        },
        "id": "yDeSzk6nh7IJ",
        "outputId": "06edcb56-65e5-4ab0-df34-aed0fb92ac1b"
      },
      "execution_count": 38,
      "outputs": [
        {
          "output_type": "stream",
          "name": "stdout",
          "text": [
            "This is resume image\n"
          ]
        }
      ]
    },
    {
      "cell_type": "code",
      "source": [],
      "metadata": {
        "id": "L-pI9X9EiCij"
      },
      "execution_count": null,
      "outputs": []
    }
  ]
}